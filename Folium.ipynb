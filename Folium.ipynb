{
 "metadata": {
  "name": "Folium"
 },
 "nbformat": 3,
 "nbformat_minor": 0,
 "worksheets": [
  {
   "cells": [
    {
     "cell_type": "code",
     "collapsed": false,
     "input": [
      "from IPython.display import HTML\n",
      "import folium"
     ],
     "language": "python",
     "metadata": {},
     "outputs": [],
     "prompt_number": 22
    },
    {
     "cell_type": "heading",
     "level": 4,
     "metadata": {},
     "source": [
      "Many folium examples use map = folium.Map() - This is terrible form.  map is a builtin function and should never be a variable name..."
     ]
    },
    {
     "cell_type": "code",
     "collapsed": false,
     "input": [
      "map_osm = folium.Map(location=[40, -99], zoom_start=4)"
     ],
     "language": "python",
     "metadata": {},
     "outputs": [],
     "prompt_number": 16
    },
    {
     "cell_type": "code",
     "collapsed": false,
     "input": [
      "#Function that shows the map - call this functionto redraw the map.\n",
      "def showmap():\n",
      "    map_osm.create_map(path='osm.html')\n",
      "    return HTML('<iframe src=http://localhost:8015/osm.html width=1000 height=500></iframe>')\n",
      "\n",
      "def resetmap():\n",
      "    return folium.Map(location=[40, -99], zoom_start=4)\n",
      "\n",
      "map_osm = resetmap()\n",
      "showmap()"
     ],
     "language": "python",
     "metadata": {},
     "outputs": [
      {
       "html": [
        "<iframe src=http://localhost:8015/osm.html width=1000 height=500></iframe>"
       ],
       "output_type": "pyout",
       "prompt_number": 24,
       "text": [
        "<IPython.core.display.HTML at 0x1061fcf50>"
       ]
      }
     ],
     "prompt_number": 24
    },
    {
     "cell_type": "heading",
     "level": 3,
     "metadata": {},
     "source": [
      "Add a simple marker and redraw the map"
     ]
    },
    {
     "cell_type": "code",
     "collapsed": false,
     "input": [
      "map_osm.simple_marker([40.3288, -118.6625], popup='Add popup text here.')\n",
      "showmap()"
     ],
     "language": "python",
     "metadata": {},
     "outputs": [
      {
       "html": [
        "<iframe src=http://localhost:8015/osm.html width=1000 height=500></iframe>"
       ],
       "output_type": "pyout",
       "prompt_number": 25,
       "text": [
        "<IPython.core.display.HTML at 0x1039cf110>"
       ]
      }
     ],
     "prompt_number": 25
    },
    {
     "cell_type": "heading",
     "level": 3,
     "metadata": {},
     "source": [
      "Add a polygon to the map (Phoenix)."
     ]
    },
    {
     "cell_type": "code",
     "collapsed": false,
     "input": [
      "map_osm.circle_marker(location=[33.45, -112.0667], radius=1500,\n",
      "                  popup='My Popup Info', line_color='#3186cc',\n",
      "                  fill_color='#3186cc', fill_opacity=0.2)\n",
      "showmap()"
     ],
     "language": "python",
     "metadata": {},
     "outputs": [
      {
       "html": [
        "<iframe src=http://localhost:8015/osm.html width=1000 height=500></iframe>"
       ],
       "output_type": "pyout",
       "prompt_number": 26,
       "text": [
        "<IPython.core.display.HTML at 0x105ba98d0>"
       ]
      }
     ],
     "prompt_number": 26
    },
    {
     "cell_type": "heading",
     "level": 3,
     "metadata": {},
     "source": [
      "Choropleth map (remove the old markers first)"
     ]
    },
    {
     "cell_type": "code",
     "collapsed": false,
     "input": [
      "map_osm = resetmap()\n",
      "import pandas as pd\n",
      "\n",
      "#Grab the geojson from github\n",
      "county_geo = r'us_counties_20m_topo.json'\n",
      "\n",
      "county_data = 'https://raw.github.com/wrobstory/folium/master/examples/data/us_county_data.csv'\n",
      "\n",
      "df = pd.read_csv(county_data, na_values=[' '])\n",
      "df['FIPS_Code'] = df['FIPS_Code'].astype(str)\n",
      "\n",
      "def set_id(fips):\n",
      "    '''Modify FIPS code to match GeoJSON property'''\n",
      "    if fips == '0':\n",
      "        return None\n",
      "    elif len(fips) <= 4:\n",
      "        return ''.join(['0500000US0', fips])\n",
      "    else:\n",
      "        return ''.join(['0500000US', fips])\n",
      "\n",
      "#Apply set_id, drop NaN\n",
      "df['GEO_ID'] = df['FIPS_Code'].apply(set_id)\n",
      "df = df.dropna()\n",
      "\n",
      "map_osm.geo_json(geo_path=county_geo, data_out='data2.json', data=df,\n",
      "               columns=['GEO_ID', 'Unemployment_rate_2011'],\n",
      "               key_on='feature.id',\n",
      "               threshold_scale=[0, 5, 7, 9, 11, 13],\n",
      "               fill_color='YlGnBu', line_opacity=0.3,\n",
      "               legend_name='Unemployment Rate 2011 (%)',\n",
      "               topojson='objects.us_counties_20m')\n",
      "\n",
      "showmap()"
     ],
     "language": "python",
     "metadata": {},
     "outputs": [
      {
       "html": [
        "<iframe src=http://localhost:8015/osm.html width=1000 height=500></iframe>"
       ],
       "output_type": "pyout",
       "prompt_number": 27,
       "text": [
        "<IPython.core.display.HTML at 0x105ba92d0>"
       ]
      }
     ],
     "prompt_number": 27
    },
    {
     "cell_type": "code",
     "collapsed": false,
     "input": [],
     "language": "python",
     "metadata": {},
     "outputs": []
    }
   ],
   "metadata": {}
  }
 ]
}